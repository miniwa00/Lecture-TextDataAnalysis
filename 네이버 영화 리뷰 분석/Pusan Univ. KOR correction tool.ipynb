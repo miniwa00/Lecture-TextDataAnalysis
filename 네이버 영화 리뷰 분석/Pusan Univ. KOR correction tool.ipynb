{
 "cells": [
  {
   "cell_type": "code",
   "execution_count": 2,
   "id": "875309f9",
   "metadata": {},
   "outputs": [
    {
     "name": "stderr",
     "output_type": "stream",
     "text": [
      "C:\\Users\\user\\AppData\\Local\\Temp\\ipykernel_14896\\3845529500.py:4: DeprecationWarning: executable_path has been deprecated, please pass in a Service object\n",
      "  wd = webdriver.Chrome('C:\\\\Users\\\\user\\\\Downloads\\\\chromedriver.exe') # 각자의 크롬드라이버 위치를 지정\n"
     ]
    }
   ],
   "source": [
    "from selenium import webdriver\n",
    "\n",
    "chrome_options = webdriver.ChromeOptions()\n",
    "wd = webdriver.Chrome('C:\\\\Users\\\\user\\\\Downloads\\\\chromedriver.exe') # 각자의 크롬드라이버 위치를 지정\n",
    "\n",
    "def spell_checking(sentence, text_list):\n",
    "    time.sleep(0.5) # 매 문장마다 0.5초 씩 쉬어가며 체크하겠다. \n",
    "    wd.get('http://speller.cs.pusan.ac.kr/') # 부산대 맞춤법 교정기 사이트 접근\n",
    "    try:\n",
    "        wd.find_element(By.XPATH, '//*[@id=\"text1\"]').send_keys(sentence) # XPATH 문법으로 접근 -> 아이디가 text1인 곳에 sentence를 보내라 \n",
    "        wd.find_element(By.XPATH, '//*[@id=\"btnCheck\"]').click() # 아이디가 btnCheck인 곳을 클릭해라\n",
    "        time.sleep(0.5) # 잠깐 쉬자\n",
    "        entity_num = 0 \n",
    "        while True: # 무한 while 루프\n",
    "            try: \n",
    "                wd.find_element(By.XPATH, '//*[@id=\"tdReplaceWord_'+str(entity_num)+'\"]/ul/li/a').click() \n",
    "                # tdReplaceWord_1, tdReplaceWord_2 ... 이런 식으로 진행된다.\n",
    "                # 이것의 의미는 맞춤법이 교정되는 칸에서 교정된 글자를 의미한다.\n",
    "                # 띄어쓰기마다 교정되기 때문에 나는 / 너를 / 사랑해 와 같은 식으로 교정된다.\n",
    "                # 즉 각 요소마다 tdReplaceword_000 이 달린다.\n",
    "                # 이 요소를 클릭하면 아래의 tdCorrection1stBox가 교정된 전체 문장으로 나온다.\n",
    "                entity_num += 1 # 하나씩 누적합을 해주어 모든 요소에 접근 가능\n",
    "            except:\n",
    "                break # 더 이상 요소가 없다면 while 루프를 빠져나온다.\n",
    "        texts = wd.find_element(By.XPATH, '//*[@id=\"tdCorrection1stBox\"]').text # 교정된 전체 문장에서 텍스트만 뽑아 texts 변수에 저장\n",
    "        text_list.append(texts) # 리스트에 추가\n",
    "    except:\n",
    "         text_list.append(sentence) # 가끔 오류가 없는 문장이 들어온다면 바로 리스트에 추가 (꽤 많다.)"
   ]
  }
 ],
 "metadata": {
  "kernelspec": {
   "display_name": "Python 3 (ipykernel)",
   "language": "python",
   "name": "python3"
  },
  "language_info": {
   "codemirror_mode": {
    "name": "ipython",
    "version": 3
   },
   "file_extension": ".py",
   "mimetype": "text/x-python",
   "name": "python",
   "nbconvert_exporter": "python",
   "pygments_lexer": "ipython3",
   "version": "3.8.16"
  }
 },
 "nbformat": 4,
 "nbformat_minor": 5
}
