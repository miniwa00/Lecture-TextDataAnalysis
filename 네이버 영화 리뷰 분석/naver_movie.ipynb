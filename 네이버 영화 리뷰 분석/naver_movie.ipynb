{
 "cells": [
  {
   "cell_type": "markdown",
   "id": "730c4916",
   "metadata": {},
   "source": [
    "### [KOR]\n",
    "- <span style = 'font-size:1.2em;line-height:1.5em'><b>3. </b>아래 데이터는 konlpy에서 제공하는 naver영화 평점 데이터이다. 아래 데이터를 보고, document column에 있는 text들을 전처리해보세요.</span>\n",
    "\n",
    "    - <span style = 'font-size:1.1em;line-height:1.5em'> 띄어쓰기, 오타 교정, 형태소 분석기를 활용한 tokenizing, normalizing, word_dictionary 생성(빈도수가 상위 500개), Integer encoding, DTM 생성, TF-IDF생성</span>\n",
    "    - <span style = 'font-size:1.1em;line-height:1.5em'> DTM, TF-IDF의 각 row vector는 500차원의 벡터이다.</span>\n",
    "    - <span style = 'font-size:1.1em;line-height:1.5em'> 만약 Memory Error가 발생한다면 차원수를 더 줄여도 된다.</span>\n",
    "    - <span style = 'font-size:1.1em;line-height:1.5em'> DTM이나 TF-IDF를 생성할 때, OOV문제는 무시하여 벡터에 반영하지 않아도 된다.</span>"
   ]
  },
  {
   "cell_type": "markdown",
   "id": "6303bf36",
   "metadata": {},
   "source": [
    "- 오타 교정 불가 (hanspell 이용 불가, selenium 시간 이슈로 불가)\n",
    "- 띄어쓰기 불가 (Kospacing 속도 이슈로 불가)"
   ]
  },
  {
   "cell_type": "code",
   "execution_count": 1,
   "id": "b688984b",
   "metadata": {},
   "outputs": [],
   "source": [
    "from selenium import webdriver\n",
    "from pykospacing import Spacing\n",
    "import pickle\n",
    "import pandas as pd\n",
    "import numpy as np\n",
    "import re\n",
    "import urllib.request\n",
    "from konlpy.tag import Okt\n",
    "from tqdm import tqdm\n",
    "from konlpy.tag import Okt\n",
    "import requests\n",
    "import json\n",
    "from hanspell import spell_checker\n",
    "import time\n",
    "from selenium.webdriver.common.by import By\n",
    "from collections import Counter\n",
    "from sklearn.feature_extraction.text import CountVectorizer\n",
    "from sklearn.feature_extraction.text import TfidfVectorizer"
   ]
  },
  {
   "cell_type": "code",
   "execution_count": 2,
   "id": "6caecfbe",
   "metadata": {},
   "outputs": [
    {
     "data": {
      "text/plain": [
       "('ratings_test.txt', <http.client.HTTPMessage at 0x2725a876910>)"
      ]
     },
     "execution_count": 2,
     "metadata": {},
     "output_type": "execute_result"
    }
   ],
   "source": [
    "urllib.request.urlretrieve(\"https://raw.githubusercontent.com/e9t/nsmc/master/ratings_train.txt\", filename=\"ratings_train.txt\")\n",
    "urllib.request.urlretrieve(\"https://raw.githubusercontent.com/e9t/nsmc/master/ratings_test.txt\", filename=\"ratings_test.txt\")"
   ]
  },
  {
   "cell_type": "code",
   "execution_count": 3,
   "id": "35761bcc",
   "metadata": {},
   "outputs": [],
   "source": [
    "train_data = pd.read_table('ratings_train.txt')\n",
    "test_data = pd.read_table('ratings_test.txt')"
   ]
  },
  {
   "cell_type": "code",
   "execution_count": 4,
   "id": "45d46974",
   "metadata": {
    "scrolled": false
   },
   "outputs": [
    {
     "name": "stderr",
     "output_type": "stream",
     "text": [
      "C:\\Users\\user\\AppData\\Local\\Temp\\ipykernel_25552\\1209056594.py:2: FutureWarning: The default value of regex will change from True to False in a future version.\n",
      "  train_data['document'] = train_data['document'].str.replace(\"[^ㄱ-ㅎㅏ-ㅣ가-힣 ]\",\"\") # 정규 표현식 수행\n",
      "C:\\Users\\user\\AppData\\Local\\Temp\\ipykernel_25552\\1209056594.py:3: FutureWarning: The default value of regex will change from True to False in a future version.\n",
      "  train_data['document'] = train_data['document'].str.replace('^ +', \"\") # 공백은 empty 값으로 변경\n"
     ]
    },
    {
     "name": "stdout",
     "output_type": "stream",
     "text": [
      "전처리 후 학습용 샘플의 개수 : 145393\n"
     ]
    }
   ],
   "source": [
    "train_data.drop_duplicates(subset = ['document'], inplace=True) # document 열에서 중복인 내용이 있다면 중복 제거\n",
    "train_data['document'] = train_data['document'].str.replace(\"[^ㄱ-ㅎㅏ-ㅣ가-힣 ]\",\"\") # 정규 표현식 수행\n",
    "train_data['document'] = train_data['document'].str.replace('^ +', \"\") # 공백은 empty 값으로 변경\n",
    "train_data['document'].replace('', np.nan, inplace=True) # document column이 비어있다면(공백), Null 값으로 변경\n",
    "train_data = train_data.dropna(how='any') # Null 값 제거\n",
    "print('전처리 후 학습용 샘플의 개수 :',len(train_data))"
   ]
  },
  {
   "cell_type": "code",
   "execution_count": 5,
   "id": "be02abca",
   "metadata": {
    "scrolled": true
   },
   "outputs": [],
   "source": [
    "documents = train_data['document'].tolist()"
   ]
  },
  {
   "cell_type": "code",
   "execution_count": 6,
   "id": "d6b81ae6",
   "metadata": {},
   "outputs": [],
   "source": [
    "okt = Okt()"
   ]
  },
  {
   "cell_type": "code",
   "execution_count": 7,
   "id": "f98f84a8",
   "metadata": {},
   "outputs": [],
   "source": [
    "lemmantized_list =[]\n",
    "for i in range(len(documents)):\n",
    "    lemmantized_list.append(okt.morphs(documents[i], stem=True)) # lemmantization"
   ]
  },
  {
   "cell_type": "code",
   "execution_count": 8,
   "id": "edb35ccc",
   "metadata": {},
   "outputs": [],
   "source": [
    "with open('stopwords.txt', 'r', encoding='utf-8') as f:\n",
    "    stopwords = f.readlines()\n",
    "stopwords=[x.replace('\\n','') for x in stopwords]"
   ]
  },
  {
   "cell_type": "code",
   "execution_count": 9,
   "id": "c23dff72",
   "metadata": {},
   "outputs": [],
   "source": [
    "removal_stopwords = []\n",
    "for i in range(len(lemmantized_list)):\n",
    "    for j in lemmantized_list[i]:\n",
    "        if j not in stopwords:\n",
    "            removal_stopwords.append(j)"
   ]
  },
  {
   "cell_type": "code",
   "execution_count": 10,
   "id": "ed6d58da",
   "metadata": {},
   "outputs": [],
   "source": [
    "cnt = Counter(removal_stopwords)"
   ]
  },
  {
   "cell_type": "code",
   "execution_count": 11,
   "id": "83679865",
   "metadata": {
    "scrolled": true
   },
   "outputs": [],
   "source": [
    "vocab = cnt.most_common(500)"
   ]
  },
  {
   "cell_type": "code",
   "execution_count": 12,
   "id": "d1fd2596",
   "metadata": {
    "scrolled": true
   },
   "outputs": [],
   "source": [
    "word_dict = dict()\n",
    "for i, (word, freq) in enumerate(vocab):\n",
    "    word_dict[word] = i"
   ]
  },
  {
   "cell_type": "code",
   "execution_count": 13,
   "id": "f3d18d53",
   "metadata": {},
   "outputs": [
    {
     "data": {
      "text/plain": [
       "array([[0, 0, 0, ..., 0, 0, 0],\n",
       "       [0, 0, 0, ..., 0, 0, 0],\n",
       "       [0, 0, 0, ..., 0, 0, 0],\n",
       "       ...,\n",
       "       [0, 0, 0, ..., 0, 0, 0],\n",
       "       [0, 0, 0, ..., 0, 0, 0],\n",
       "       [2, 0, 0, ..., 0, 0, 0]], dtype=int64)"
      ]
     },
     "execution_count": 13,
     "metadata": {},
     "output_type": "execute_result"
    }
   ],
   "source": [
    "vector = CountVectorizer(vocabulary=word_dict)\n",
    "results = vector.fit_transform(documents).toarray()\n",
    "results"
   ]
  },
  {
   "cell_type": "code",
   "execution_count": 14,
   "id": "f2c8bfb1",
   "metadata": {
    "scrolled": true
   },
   "outputs": [
    {
     "data": {
      "text/plain": [
       "array([[0.        , 0.        , 0.        , ..., 0.        , 0.        ,\n",
       "        0.        ],\n",
       "       [0.        , 0.        , 0.        , ..., 0.        , 0.        ,\n",
       "        0.        ],\n",
       "       [0.        , 0.        , 0.        , ..., 0.        , 0.        ,\n",
       "        0.        ],\n",
       "       ...,\n",
       "       [0.        , 0.        , 0.        , ..., 0.        , 0.        ,\n",
       "        0.        ],\n",
       "       [0.        , 0.        , 0.        , ..., 0.        , 0.        ,\n",
       "        0.        ],\n",
       "       [0.68125303, 0.        , 0.        , ..., 0.        , 0.        ,\n",
       "        0.        ]])"
      ]
     },
     "execution_count": 14,
     "metadata": {},
     "output_type": "execute_result"
    }
   ],
   "source": [
    "vector = TfidfVectorizer(vocabulary=word_dict)\n",
    "tfidf = vector.fit_transform(documents).toarray()\n",
    "tfidf"
   ]
  }
 ],
 "metadata": {
  "kernelspec": {
   "display_name": "Python 3 (ipykernel)",
   "language": "python",
   "name": "python3"
  },
  "language_info": {
   "codemirror_mode": {
    "name": "ipython",
    "version": 3
   },
   "file_extension": ".py",
   "mimetype": "text/x-python",
   "name": "python",
   "nbconvert_exporter": "python",
   "pygments_lexer": "ipython3",
   "version": "3.8.16"
  }
 },
 "nbformat": 4,
 "nbformat_minor": 5
}
